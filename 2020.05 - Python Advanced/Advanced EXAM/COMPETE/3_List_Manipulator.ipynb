{
 "cells": [
  {
   "cell_type": "markdown",
   "metadata": {},
   "source": [
    "List Manipulator\n",
    "================\n",
    "Write a function called **list\\_manipulator** which receives a **list of\n",
    "numbers** as **first parameter** and **different amount** of other\n",
    "parameters. The **second** parameter might be **\"add\"** or **\"remove\"**.\n",
    "The **third** parameter might be **\"beginning\"** or **\"end\"**. There\n",
    "**might** or **might not** be any **other parameters** (numbers):\n",
    "-   In case of **\"add\"** and **\"beginning\"**, **add** the given\n",
    "    **numbers** to the **beginning** of the given **list of numbers**\n",
    "    and **return the new list**\n",
    "\n",
    "-   In case of **\"add\"** and **\"end\"**, **add** the given **numbers** to\n",
    "    the **end** of the given **list of numbers** and **return the new\n",
    "    list**\n",
    "\n",
    "-   In case of **\"remove\"** and **\"beginning\"**\n",
    "\n",
    "    -   If there is **another parameter** (number), **remove** that\n",
    "        **amount** of numbers from the **beginning** of the **list of\n",
    "        numbers**.\n",
    "\n",
    "    -   If there are **no other parameters**, **remove** only the\n",
    "        **first element** of the list.\n",
    "\n",
    "    -   Finaly, **return the new list**\n",
    "\n",
    "-   In case of **\"remove\"** and **\"end\"**\n",
    "\n",
    "    -   If there is **another parameter** (number), **remove** that\n",
    "        **amount** of numbers from the **end** of the **list of\n",
    "        numbers**.\n",
    "\n",
    "    -   Otherwise if there are **no other parameters**, **remove** only\n",
    "        the **last element** of the list.\n",
    "\n",
    "    -   Finaly, **return the new list**\n",
    "\n",
    "For more clarifications, see the examples below.\n",
    "\n",
    "### Input\n",
    "\n",
    "-   There will be **no input**\n",
    "\n",
    "-   **Parameters** will be passed to your function\n",
    "\n",
    "### Output\n",
    "\n",
    "-   The function should **return the new list of numbers**\n",
    "\n",
    "### Examples\n",
    "\n",
    "<table>\n",
    "<thead>\n",
    "<tr class=\"header\">\n",
    "<th><strong>Test Code</strong></th>\n",
    "<th><strong>Output</strong></th>\n",
    "</tr>\n",
    "</thead>\n",
    "<tbody>\n",
    "<tr class=\"odd\">\n",
    "<td><p>print(list_manipulator([1,2,3], \"remove\", \"end\"))</p>\n",
    "<p>print(list_manipulator([1,2,3], \"remove\", \"beginning\"))</p>\n",
    "<p>print(list_manipulator([1,2,3], \"add\", \"beginning\", 20))</p>\n",
    "<p>print(list_manipulator([1,2,3], \"add\", \"end\", 30))</p>\n",
    "<p>print(list_manipulator([1,2,3], \"remove\", \"end\", 2))</p>\n",
    "<p>print(list_manipulator([1,2,3], \"remove\", \"beginning\", 2))</p>\n",
    "<p>print(list_manipulator([1,2,3], \"add\", \"beginning\", 20, 30, 40))</p>\n",
    "<p>print(list_manipulator([1,2,3], \"add\", \"end\", 30, 40, 50))</p></td>\n",
    "<td><p>[1, 2]</p>\n",
    "<p>[2, 3]</p>\n",
    "<p>[20, 1, 2, 3]</p>\n",
    "<p>[1, 2, 3, 30]</p>\n",
    "<p>[1]</p>\n",
    "<p>[3]</p>\n",
    "<p>[20, 30, 40, 1, 2, 3]</p>\n",
    "<p>[1, 2, 3, 30, 40, 50]</p></td>\n",
    "</tr>\n",
    "</tbody>\n",
    "</table>"
   ]
  },
  {
   "cell_type": "code",
   "execution_count": null,
   "outputs": [],
   "source": [
    "def list_manipulator(x, y, *args):\n",
    "    from collections import deque\n",
    "    li, operation = deque(x), y\n",
    "    n = None\n",
    "    if len(args) > 1:\n",
    "        n = args[1:]\n",
    "\n",
    "    if operation == 'add':\n",
    "        if n is not None:\n",
    "            [li.appendleft(i) for i in reversed(n)] if 'beginning' in args else [li.append(i) for i in n]\n",
    "    elif operation == 'remove':\n",
    "        if n is None:\n",
    "            li.popleft() if 'beginning' in args else li.pop()\n",
    "        elif n is not None:\n",
    "            n = int(n[0])\n",
    "            [li.popleft() for i in range(n)] if 'beginning' in args else [li.pop() for i in range(n)]\n",
    "\n",
    "    return [i for i in li]"
   ],
   "metadata": {
    "collapsed": false,
    "pycharm": {
     "name": "#%% py\n"
    }
   }
  },
  {
   "cell_type": "markdown",
   "source": [
    "INPUT:"
   ],
   "metadata": {
    "collapsed": false
   }
  },
  {
   "cell_type": "code",
   "execution_count": null,
   "outputs": [],
   "source": [
    "print(list_manipulator([1,2,3], \"remove\", \"end\"))\n",
    "print(list_manipulator([1,2,3], \"remove\", \"beginning\"))\n",
    "print(list_manipulator([1,2,3], \"add\", \"beginning\", 20))\n",
    "print(list_manipulator([1,2,3], \"add\", \"end\", 30))\n",
    "print(list_manipulator([1,2,3], \"remove\", \"end\", 2))\n",
    "print(list_manipulator([1,2,3], \"remove\", \"beginning\", 2))\n",
    "print(list_manipulator([1,2,3], \"add\", \"beginning\", 20, 30, 40))\n",
    "print(list_manipulator([1,2,3], \"add\", \"end\", 30, 40, 50))"
   ],
   "metadata": {
    "collapsed": false,
    "pycharm": {
     "name": "#%%\n"
    }
   }
  }
 ],
 "nbformat": 4,
 "nbformat_minor": 5,
 "metadata": {}
}