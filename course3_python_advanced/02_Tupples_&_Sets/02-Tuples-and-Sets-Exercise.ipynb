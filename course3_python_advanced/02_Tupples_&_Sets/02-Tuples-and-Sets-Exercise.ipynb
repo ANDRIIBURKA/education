{
 "cells": [
  {
   "cell_type": "markdown",
   "metadata": {},
   "source": [
    "Exercise: Tuples and Sets\n",
    "=========================\n",
    "\n",
    "Problems for exercise and homework for the [Python Advanced Course\n",
    "@SoftUni](https://softuni.bg/courses/python-advanced). Submit your\n",
    "solutions in the SoftUni judge system at\n",
    "<https://judge.softuni.bg/Contests/1833>\n",
    "\n",
    "01.Unique Usernames\n",
    "==\n",
    "___\n",
    "\n",
    "Write a program that reads from the console a sequence of **N\n",
    "usernames** and keeps a collection only of the **unique** ones. On the\n",
    "**first** line, you will receive an integer **N**. On the next **N**\n",
    "lines, you will receive **a username**. Print the collection on the\n",
    "console (the order does **not matter**):\n",
    "\n",
    "### Examples\n",
    "\n",
    "<table>\n",
    "<thead>\n",
    "<tr class=\"header\">\n",
    "<th><strong>Input</strong></th>\n",
    "<th><strong>Output</strong></th>\n",
    "</tr>\n",
    "</thead>\n",
    "<tbody>\n",
    "<tr class=\"odd\">\n",
    "\n",
    "<td><p>6<br>George<br>George<br>George<br>Peter<br>George<br>NiceGuy1234</p></td>\n",
    "\n",
    "<td><p>George</p>\n",
    "<p>Peter</p>\n",
    "<p>NiceGuy1234</p></td>\n",
    "</tr>\n",
    "</tbody>\n",
    "</table>"
   ]
  },
  {
   "cell_type": "code",
   "execution_count": null,
   "outputs": [],
   "source": [
    "[print(x) for x in {input() for i in range(int(input()))}]"
   ],
   "metadata": {
    "collapsed": false,
    "pycharm": {
     "name": "#%%\n"
    }
   }
  },
  {
   "cell_type": "markdown",
   "source": [
    "02.Sets of Elements\n",
    "==\n",
    "___\n",
    "\n",
    "Write a program that prints a **set of elements**. On the first line,\n",
    "you will receive two numbers - **n** and **m**, which represent the\n",
    "lengths of two separate sets. On the next **n** + **m** lines you will\n",
    "receive **n** numbers, which are the numbers in the **first** set, and\n",
    "**m** numbers, which are in the **second** set. Find all the **unique**\n",
    "**elements** that appear in **both** and **print** them on **separate\n",
    "lines** (the order **does not matter**).\n",
    "\n",
    "**For example:**\n",
    "\n",
    "Set with length n = 4: {1, **3**, **5**, 7}\n",
    "\n",
    "Set with length m = 3: {**3**, 4, **5**}\n",
    "\n",
    "Set that contains all the **elements** that repeat in **both** **sets**\n",
    "-\\> {**3**, **5**}\n",
    "\n",
    "### Examples\n",
    "\n",
    "<table>\n",
    "<thead>\n",
    "<tr class=\"header\">\n",
    "<th><strong>Input</strong></th>\n",
    "<th><strong>Output</strong></th>\n",
    "</tr>\n",
    "</thead>\n",
    "<tbody>\n",
    "<tr class=\"odd\">\n",
    "\n",
    "<td><p>4 3<br>1<br>3<br>5<br>7<br>3<br>4<br>5</p></td>\n",
    "\n",
    "<td><p>3</p>\n",
    "<p>5</p></td>\n",
    "</tr>\n",
    "<tr class=\"even\">\n",
    "\n",
    "<td><p>2 2<br>1<br>3<br>1<br>5</p></td>\n",
    "\n",
    "<td>1</td>\n",
    "</tr>\n",
    "</tbody>\n",
    "</table>"
   ],
   "metadata": {
    "collapsed": false,
    "pycharm": {
     "name": "#%% md\n"
    }
   }
  },
  {
   "cell_type": "code",
   "execution_count": null,
   "outputs": [],
   "source": [
    "cmd = input().split()\n",
    "n = {int(input()) for _ in range(int(cmd[0]))}\n",
    "m = {int(input()) for _ in range(int(cmd[1]))}\n",
    "[print(x) for x in n.intersection(m)]"
   ],
   "metadata": {
    "collapsed": false,
    "pycharm": {
     "name": "#%%\n"
    }
   }
  },
  {
   "cell_type": "markdown",
   "source": [
    "03.Periodic Table\n",
    "==\n",
    "___\n",
    "\n",
    "Write a program that keeps all the **unique** chemical **elements**. On\n",
    "the first line you will be given a number **n** - the **count** of input\n",
    "**lines** that you are going to receive. On the next **n** lines, you\n",
    "will be receiving **chemical** **compounds**, separated by a **single**\n",
    "**space**. Your task is to print all the **unique ones** on separate\n",
    "lines (**order does not matter**):\n",
    "\n",
    "### Examples\n",
    "\n",
    "<table>\n",
    "<thead>\n",
    "<tr class=\"header\">\n",
    "<th><strong>Input</strong></th>\n",
    "<th><strong>Output</strong></th>\n",
    "</tr>\n",
    "</thead>\n",
    "<tbody>\n",
    "<tr class=\"odd\">\n",
    "\n",
    "<td><p>4<br>Ce O<br>Mo O Ce<br>Ee<br>Mo</p></td>\n",
    "\n",
    "<td><p>Ce</p>\n",
    "<p>Ee</p>\n",
    "<p>Mo</p>\n",
    "<p>O</p></td>\n",
    "</tr>\n",
    "<tr class=\"even\">\n",
    "\n",
    "<td><p>3<br>Ge Ch O Ne<br>Nb Mo Tc<br>O Ne</p></td>\n",
    "\n",
    "<td><p>Ch</p>\n",
    "<p>Ge</p>\n",
    "<p>Mo</p>\n",
    "<p>Nb</p>\n",
    "<p>Ne</p>\n",
    "<p>O</p>\n",
    "<p>Tc</p></td>\n",
    "</tr>\n",
    "</tbody>\n",
    "</table>"
   ],
   "metadata": {
    "collapsed": false
   }
  },
  {
   "cell_type": "code",
   "execution_count": null,
   "outputs": [],
   "source": [
    "s = ''''''\n",
    "\n",
    "for _ in range(int(input())):\n",
    "    s += f\" {input()}\"\n",
    "\n",
    "[print(x) for x in set(s.split())]"
   ],
   "metadata": {
    "collapsed": false,
    "pycharm": {
     "name": "#%%\n"
    }
   }
  },
  {
   "cell_type": "markdown",
   "source": [
    "04.Count Symbols\n",
    "==\n",
    "___\n",
    "\n",
    "Write a program that reads a **text** from the console and **counts**\n",
    "the **occurrences** of **each** character in it. Print the results in\n",
    "**alphabetical** (lexicographical) order.\n",
    "\n",
    "### Examples\n",
    "\n",
    "<table>\n",
    "<thead>\n",
    "<tr class=\"header\">\n",
    "<th><strong>Input</strong></th>\n",
    "<th><strong>Output</strong></th>\n",
    "</tr>\n",
    "</thead>\n",
    "<tbody>\n",
    "<tr class=\"odd\">\n",
    "<td>SoftUni rocks</td>\n",
    "<td><p>: 1 time/s</p>\n",
    "<p>S: 1 time/s</p>\n",
    "<p>U: 1 time/s</p>\n",
    "<p>c: 1 time/s</p>\n",
    "<p>f: 1 time/s</p>\n",
    "<p>i: 1 time/s</p>\n",
    "<p>k: 1 time/s</p>\n",
    "<p>n: 1 time/s</p>\n",
    "<p>o: 2 time/s</p>\n",
    "<p>r: 1 time/s</p>\n",
    "<p>s: 1 time/s</p>\n",
    "<p>t: 1 time/s</p></td>\n",
    "</tr>\n",
    "</tbody>\n",
    "</table>"
   ],
   "metadata": {
    "collapsed": false,
    "pycharm": {
     "name": "#%% md\n"
    }
   }
  },
  {
   "cell_type": "code",
   "execution_count": null,
   "outputs": [],
   "source": [
    "usr_inp = input()\n",
    "di = {let: usr_inp.count(let) for let in usr_inp}\n",
    "[print(f\"{let}: {num} time/s\") for let, num in sorted(di.items(), key=lambda x: x[0])]"
   ],
   "metadata": {
    "collapsed": false,
    "pycharm": {
     "name": "#%%\n"
    }
   }
  },
  {
   "cell_type": "markdown",
   "source": [
    "05.Phonebook\n",
    "==\n",
    "___\n",
    "\n",
    "Write a program that receives info from the console about **people** and\n",
    "their **phone numbers**.\n",
    "\n",
    "You are free to choose the way the data is entered; each **entry**\n",
    "should have **a name** and **a number** (both strings). If you receive a\n",
    "name that **already exists** in the phonebook, update its number.\n",
    "\n",
    "After filling the phonebook, you will receive a number – **N**. Your\n",
    "program should be able to perform a search of a contact by name and\n",
    "print her details in format \"**{name} -\\> {number}**\". In case the\n",
    "contact isn't found, print \"**Contact {name} does not exist.**\"\n",
    "\n",
    "### Examples\n",
    "\n",
    "<table>\n",
    "<thead>\n",
    "<tr class=\"header\">\n",
    "<th><strong>Input</strong></th>\n",
    "<th><strong>Output</strong></th>\n",
    "</tr>\n",
    "</thead>\n",
    "<tbody>\n",
    "<tr class=\"odd\">\n",
    "\n",
    "<td><p>Adam-0888080808<br><strong>2</strong><br>Mery<br>Adam</p></td>\n",
    "\n",
    "<td><p>Contact Mery does not exist.</p>\n",
    "<p>Adam -&gt; 0888080808</p></td>\n",
    "</tr>\n",
    "<tr class=\"even\">\n",
    "\n",
    "<td><p>Adam-+359888001122<br>Ralf-666<br>George-5559393<br>Silvester-02/987665544<br><strong>4</strong><br>Silvester<br>silvester<br>Rolf<br>Ralf</p></td>\n",
    "\n",
    "<td><p>Silvester -&gt; 02/987665544</p>\n",
    "<p>Contact silvester does not exist.</p>\n",
    "<p>Contact Rolf does not exist.</p>\n",
    "<p>Ralf -&gt; 666</p></td>\n",
    "</tr>\n",
    "</tbody>\n",
    "</table>"
   ],
   "metadata": {
    "collapsed": false,
    "pycharm": {
     "name": "#%% md\n"
    }
   }
  },
  {
   "cell_type": "code",
   "execution_count": null,
   "outputs": [],
   "source": [
    "def contacts(usr_inp):\n",
    "    contacts_di = {}\n",
    "    while not usr_inp.isdigit():\n",
    "        name, phone = usr_inp.split('-')\n",
    "        contacts_di[name] = phone\n",
    "        usr_inp = input()\n",
    "\n",
    "    usr_inp = int(usr_inp)\n",
    "    for _ in range(usr_inp):\n",
    "        current_name = input()\n",
    "        if current_name in contacts_di:\n",
    "            print(f\"{current_name} -> {contacts_di[current_name]}\")\n",
    "        else:\n",
    "            print(f\"Contact {current_name} does not exist.\")\n",
    "\n",
    "\n",
    "if __name__ == '__main__':\n",
    "    contacts(usr_inp=input())"
   ],
   "metadata": {
    "collapsed": false,
    "pycharm": {
     "name": "#%%\n"
    }
   }
  },
  {
   "cell_type": "markdown",
   "source": [
    "06.Longest Intersection\n",
    "==\n",
    "___\n",
    "\n",
    "Write a program that finds the **longest intersection**. You will be\n",
    "given a number **N**. On the next **N lines** you will be given **two\n",
    "ranges** in the format:\n",
    "**\"{first\\_start},{first\\_end}-{second\\_start},{second\\_end}\"**. Find\n",
    "the **intersection** of these two ranges and **save the longest one of\n",
    "all** N intersections. At the end print the **numbers** that are\n",
    "included in the longest intersection and its length in the format:\n",
    "**\"Longest intersection is {longest\\_intersection} with length\n",
    "{length\\_longest\\_intersection}\"**\n",
    "\n",
    "***<span class=\"underline\">Note: in each range, there will always be\n",
    "intersection. If there are two equal intersections, print the first\n",
    "one.</span>***\n",
    "\n",
    "**  \n",
    "**\n",
    "\n",
    "### Examples\n",
    "\n",
    "<table>\n",
    "<thead>\n",
    "<tr class=\"header\">\n",
    "<th><strong>Input</strong></th>\n",
    "<th><strong>Output</strong></th>\n",
    "<th><strong>Comment</strong></th>\n",
    "</tr>\n",
    "</thead>\n",
    "<tbody>\n",
    "<tr class=\"odd\">\n",
    "\n",
    "<td><p>3<br>0,3-1,2<br>2,10-3,5<br>6,15-3,10</p></td>\n",
    "\n",
    "<td>Longest intersection is [6, 7, 8, 9, 10] with length 5</td>\n",
    "<td><p>The intersection of [0-3] and<br />\n",
    "[1-2] is [1-2] (length 2)</p>\n",
    "<p>The intersection of [2-10] and<br />\n",
    "[3-5] is [3-5] (length 3)</p>\n",
    "<p>The intersection of [6-15] and<br />\n",
    "[3-10] is [6-10] (length 5) - which is the longest</p></td>\n",
    "</tr>\n",
    "<tr class=\"even\">\n",
    "\n",
    "<td><p>5<br>0,10-2,5<br>3,8-1,7<br>1,8-2,4<br>4,7-2,5<br>1,10-2,11</p></td>\n",
    "\n",
    "<td>Longest intersection is [2, 3, 4, 5, 6, 7, 8, 9, 10] with length 9</td>\n",
    "<td></td>\n",
    "</tr>\n",
    "</tbody>\n",
    "</table>"
   ],
   "metadata": {
    "collapsed": false,
    "pycharm": {
     "name": "#%% md\n"
    }
   }
  },
  {
   "cell_type": "code",
   "execution_count": null,
   "outputs": [],
   "source": [
    "def solve():\n",
    "    intersections = []\n",
    "    for _ in range(int(input())):\n",
    "        usr_inp = input().split('-')\n",
    "        li = []\n",
    "        for i1 in range(len(usr_inp)):\n",
    "            start, end = [start_end for start_end in list(map(int, usr_inp[i1].split(',')))]\n",
    "            tmp = []\n",
    "            [tmp.append(num) for num in range(start, end + 1)]\n",
    "            li.append(tmp)\n",
    "        intersections.append([intersection for intersection in set(li[0]).intersection(set(li[1]))])\n",
    "    lengths = [len(current_intersection) for current_intersection in intersections]\n",
    "    max_len_index = lengths.index(max(lengths))\n",
    "    print(f\"Longest intersection is {intersections[max_len_index]} with length {len(intersections[max_len_index])}\")\n",
    "\n",
    "\n",
    "if __name__ == '__main__':\n",
    "    solve()"
   ],
   "metadata": {
    "collapsed": false,
    "pycharm": {
     "name": "#%%\n"
    }
   }
  },
  {
   "cell_type": "markdown",
   "source": [
    "07.Battle of Names\n",
    "==\n",
    "___\n",
    "\n",
    "You will receive a **number N**. On the next **N** lines, you will be\n",
    "receiving **names**. You must **sum the ascii values** of each letter in\n",
    "the name and **integer devise** the value (**current line**). **Save the\n",
    "devised number** to a set of **either odd or even** numbers, depending\n",
    "if it's an **odd or even number**. After that, **sum the values of the\n",
    "odd and even numbers**.\n",
    "\n",
    "-   If the **summed numbers are equal**, print the **union values**,\n",
    "    separated by **\", \"**.\n",
    "\n",
    "-   If the **odd sum is bigger than the even**, print the **different\n",
    "    values**, separated by **\", \"**.\n",
    "\n",
    "-   If the **even sum is bigger than the odd**, print the **symmetric\n",
    "    different values**, separated by **\", \"**.\n",
    "\n",
    "***<span class=\"underline\">NOTE: On every operation, the starting set\n",
    "should be the odd set</span>***\n",
    "\n",
    "### Examples\n",
    "\n",
    "<table>\n",
    "<thead>\n",
    "<tr class=\"header\">\n",
    "<th><strong>Input</strong></th>\n",
    "<th><strong>Output</strong></th>\n",
    "</tr>\n",
    "</thead>\n",
    "<tbody>\n",
    "<tr class=\"odd\">\n",
    "\n",
    "<td><p>4<br>Pesho<br>Stefan<br>Stamat<br>Gosho</p></td>\n",
    "\n",
    "<td>304, 128, 206, 511</td>\n",
    "</tr>\n",
    "<tr class=\"even\">\n",
    "\n",
    "<td><p>6<br>Preslav<br>Gosho<br>Ivan<br>Stamat<br>Pesho<br>Stefan</p></td>\n",
    "\n",
    "<td>733, 101</td>\n",
    "</tr>\n",
    "</tbody>\n",
    "</table>"
   ],
   "metadata": {
    "collapsed": false,
    "pycharm": {
     "name": "#%% md\n"
    }
   }
  },
  {
   "cell_type": "code",
   "execution_count": null,
   "outputs": [],
   "source": [
    "odd, even = set(), set()\n",
    "\n",
    "for divider in range(1, int(input()) + 1):\n",
    "    name_sum = sum([ord(letter) for letter in input()]) // divider\n",
    "    even.add(name_sum) if name_sum % 2 == 0 else odd.add(name_sum)\n",
    "\n",
    "if sum(odd) == sum(even):\n",
    "    print(', '.join([str(x) for x in odd.union(even)]))\n",
    "elif sum(odd) > sum(even):\n",
    "    print(', '.join([str(x) for x in odd.difference(even)]))\n",
    "elif sum(odd) < sum(even):\n",
    "    print(', '.join([str(x) for x in odd.symmetric_difference(even)]))"
   ],
   "metadata": {
    "collapsed": false,
    "pycharm": {
     "name": "#%%\n"
    }
   }
  }
 ],
 "nbformat": 4,
 "nbformat_minor": 5,
 "metadata": {}
}